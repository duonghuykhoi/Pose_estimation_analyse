{
  "nbformat": 4,
  "nbformat_minor": 0,
  "metadata": {
    "colab": {
      "name": "Squat_Counting_jupyternotebook.ipynb",
      "provenance": [],
      "collapsed_sections": []
    },
    "kernelspec": {
      "name": "python3",
      "display_name": "Python 3"
    },
    "accelerator": "GPU"
  },
  "cells": [
    {
      "cell_type": "code",
      "metadata": {
        "colab": {
          "base_uri": "https://localhost:8080/"
        },
        "id": "QbhXaDw9PlFN",
        "outputId": "9ae4c889-57d4-4e31-940a-2ef607ca1b62"
      },
      "source": [
        "!git clone https://github.com/duonghuykhoi/Pose_estimation_analyse.git\r\n"
      ],
      "execution_count": 1,
      "outputs": [
        {
          "output_type": "stream",
          "text": [
            "Cloning into 'Pose_estimation_analyse'...\n",
            "remote: Enumerating objects: 119, done.\u001b[K\n",
            "remote: Counting objects: 100% (119/119), done.\u001b[K\n",
            "remote: Compressing objects: 100% (111/111), done.\u001b[K\n",
            "remote: Total 119 (delta 21), reused 0 (delta 0), pack-reused 0\u001b[K\n",
            "Receiving objects: 100% (119/119), 6.86 MiB | 15.27 MiB/s, done.\n",
            "Resolving deltas: 100% (21/21), done.\n"
          ],
          "name": "stdout"
        }
      ]
    },
    {
      "cell_type": "code",
      "metadata": {
        "id": "2jHY-JjNSt5P"
      },
      "source": [
        "!pip3 install tensorflow-gpu==1.15\r\n",
        "!pip3 install scipy\r\n",
        "!pip3 install pyyaml\r\n",
        "!pip3 install opencv-python==3.4.5.20\r\n",
        "!pip3 install ipykernel"
      ],
      "execution_count": null,
      "outputs": []
    },
    {
      "cell_type": "code",
      "metadata": {
        "colab": {
          "base_uri": "https://localhost:8080/"
        },
        "id": "J3atPapuQziT",
        "outputId": "81438fdc-28f4-419a-e803-5096c6f3bc3b"
      },
      "source": [
        "%cd ./Pose_estimation_analyse/posenet-python"
      ],
      "execution_count": 5,
      "outputs": [
        {
          "output_type": "stream",
          "text": [
            "/content/Pose_estimation_analyse/posenet-python\n"
          ],
          "name": "stdout"
        }
      ]
    },
    {
      "cell_type": "code",
      "metadata": {
        "id": "sdOE-cXISGa2"
      },
      "source": [
        "import tensorflow as tf\r\n",
        "import cv2\r\n",
        "import time\r\n",
        "import argparse\r\n",
        "import os\r\n",
        "import posenet\r\n",
        "import pandas as pd\r\n",
        "import numpy as np\r\n",
        "import json\r\n",
        "import csv"
      ],
      "execution_count": 6,
      "outputs": []
    },
    {
      "cell_type": "code",
      "metadata": {
        "id": "TclCGmAhRFVO"
      },
      "source": [
        "!python get_images.py --video_dir ./video/A.mp4 --output_dir ./imagesA"
      ],
      "execution_count": 7,
      "outputs": []
    },
    {
      "cell_type": "code",
      "metadata": {
        "id": "sLd8d-CGRQJX"
      },
      "source": [
        "!python image_demo.py --model 101 --image_dir ./imagesA --output_dir ./outputA --outputcsv_dir ./outputcsvA --outputjson_dir ./outputjson --name Squat_VideoA"
      ],
      "execution_count": null,
      "outputs": []
    },
    {
      "cell_type": "code",
      "metadata": {
        "colab": {
          "base_uri": "https://localhost:8080/"
        },
        "id": "batkpZVuRh42",
        "outputId": "2a2eeddc-b745-4153-9648-703f092c8c9c"
      },
      "source": [
        "!python ./Squat/__main__.py --input_json_path ./outputjson/Squat_VideoA.json"
      ],
      "execution_count": 15,
      "outputs": [
        {
          "output_type": "stream",
          "text": [
            "Total Squat Counted: 3.0\n"
          ],
          "name": "stdout"
        }
      ]
    },
    {
      "cell_type": "code",
      "metadata": {
        "id": "SE3grOCfRo3W"
      },
      "source": [
        ""
      ],
      "execution_count": null,
      "outputs": []
    },
    {
      "cell_type": "code",
      "metadata": {
        "id": "TDV1KvoORpGW"
      },
      "source": [
        ""
      ],
      "execution_count": null,
      "outputs": []
    }
  ]
}