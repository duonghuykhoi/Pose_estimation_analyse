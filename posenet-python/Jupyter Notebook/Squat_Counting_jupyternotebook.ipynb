{
  "nbformat": 4,
  "nbformat_minor": 0,
  "metadata": {
    "colab": {
      "name": "Squat_Counting_jupyternotebook.ipynb",
      "provenance": [],
      "collapsed_sections": []
    },
    "kernelspec": {
      "name": "python3",
      "display_name": "Python 3"
    },
    "accelerator": "GPU"
  },
  "cells": [
    {
      "cell_type": "code",
      "metadata": {
        "id": "QbhXaDw9PlFN"
      },
      "source": [
        "!git clone https://github.com/duonghuykhoi/Pose_estimation_analyse.git"
      ],
      "execution_count": null,
      "outputs": []
    },
    {
      "cell_type": "code",
      "metadata": {
        "id": "2jHY-JjNSt5P"
      },
      "source": [
        "!pip3 install tensorflow-gpu==1.15\r\n",
        "!pip3 install scipy\r\n",
        "!pip3 install pyyaml\r\n",
        "!pip3 install opencv-python==3.4.5.20\r\n",
        "!pip3 install ipykernel"
      ],
      "execution_count": null,
      "outputs": []
    },
    {
      "cell_type": "code",
      "metadata": {
        "id": "J3atPapuQziT"
      },
      "source": [
        "%cd ./Pose_estimation_analyse/posenet-python"
      ],
      "execution_count": null,
      "outputs": []
    },
    {
      "cell_type": "code",
      "metadata": {
        "id": "sdOE-cXISGa2"
      },
      "source": [
        "import tensorflow as tf\r\n",
        "import cv2\r\n",
        "import time\r\n",
        "import argparse\r\n",
        "import os\r\n",
        "import posenet\r\n",
        "import pandas as pd\r\n",
        "import numpy as np\r\n",
        "import json\r\n",
        "import csv"
      ],
      "execution_count": null,
      "outputs": []
    },
    {
      "cell_type": "code",
      "metadata": {
        "id": "TclCGmAhRFVO"
      },
      "source": [
        "#Cut video into frames (24frames/second)\r\n",
        "!python get_images.py --video_dir ./video/A.mp4 --output_dir ./imagesA"
      ],
      "execution_count": null,
      "outputs": []
    },
    {
      "cell_type": "code",
      "metadata": {
        "id": "sLd8d-CGRQJX"
      },
      "source": [
        "#Using posenet to get coord - Output: images, csv, json (--name: Name json file)\r\n",
        "!python image_demo.py --model 101 --image_dir ./imagesA --output_dir ./outputA --outputcsv_dir ./outputcsvA --outputjson_dir ./outputjson --name Squat_VideoA"
      ],
      "execution_count": null,
      "outputs": []
    },
    {
      "cell_type": "code",
      "metadata": {
        "id": "batkpZVuRh42"
      },
      "source": [
        "#Squat analyzing\r\n",
        "!python ./Squat/__main__.py --input_json_path ./outputjson/Squat_VideoA.json"
      ],
      "execution_count": null,
      "outputs": []
    },
    {
      "cell_type": "code",
      "metadata": {
        "id": "SE3grOCfRo3W"
      },
      "source": [
        ""
      ],
      "execution_count": null,
      "outputs": []
    },
    {
      "cell_type": "code",
      "metadata": {
        "id": "TDV1KvoORpGW"
      },
      "source": [
        ""
      ],
      "execution_count": null,
      "outputs": []
    }
  ]
}